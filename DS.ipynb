{
 "cells": [
  {
   "cell_type": "markdown",
   "id": "75678178",
   "metadata": {},
   "source": [
    "# <center> <u>Data Structures <u> </center>"
   ]
  },
  {
   "cell_type": "markdown",
   "id": "199044d4",
   "metadata": {},
   "source": [
    "## 1. Lists\n",
    "\n",
    "Reference:- https://www.youtube.com/watch?v=ohCDWZgNIU0\n"
   ]
  },
  {
   "cell_type": "markdown",
   "id": "6ee4c7c7",
   "metadata": {},
   "source": [
    "<p style='text-align: right;'> 1+1+1 = 3 points</p>\n"
   ]
  },
  {
   "cell_type": "markdown",
   "id": "ceab0d0c",
   "metadata": {},
   "source": [
    "#### 1.1 Create an empty list with the name ‘a’, print the value of a and type(a).\n"
   ]
  },
  {
   "cell_type": "code",
   "execution_count": 1,
   "id": "a35a66e2",
   "metadata": {},
   "outputs": [],
   "source": [
    "# create empty list, name it 'a'\n",
    "\n",
    "a = []"
   ]
  },
  {
   "cell_type": "code",
   "execution_count": 2,
   "id": "80122fd7",
   "metadata": {},
   "outputs": [
    {
     "name": "stdout",
     "output_type": "stream",
     "text": [
      "[]\n"
     ]
    }
   ],
   "source": [
    "# print the value of a\n",
    "\n",
    "print(a)"
   ]
  },
  {
   "cell_type": "code",
   "execution_count": 10,
   "id": "e37c8e09",
   "metadata": {},
   "outputs": [
    {
     "name": "stdout",
     "output_type": "stream",
     "text": [
      "<class 'list'>\n"
     ]
    }
   ],
   "source": [
    "# print the type of a\n",
    "\n",
    "print(type(a))"
   ]
  },
  {
   "cell_type": "markdown",
   "id": "104637b7",
   "metadata": {},
   "source": [
    "#### 1.2.Create a list , languages = ['R','Python', 'SAS', 'Scala', 42], "
   ]
  },
  {
   "cell_type": "markdown",
   "id": "b66e37a0",
   "metadata": {},
   "source": [
    "<p style='text-align: right;'> 1+1+1+1+1+1+1+1 = 7 points</p>\n"
   ]
  },
  {
   "cell_type": "code",
   "execution_count": 4,
   "id": "7535fd6f",
   "metadata": {},
   "outputs": [],
   "source": [
    "#code here\n",
    "languages = ['R','Python', 'SAS', 'Scala', 42]"
   ]
  },
  {
   "cell_type": "markdown",
   "id": "4cf99322",
   "metadata": {},
   "source": [
    "Print the number of elements in the list"
   ]
  },
  {
   "cell_type": "code",
   "execution_count": 6,
   "id": "89ab0ec1",
   "metadata": {},
   "outputs": [
    {
     "name": "stdout",
     "output_type": "stream",
     "text": [
      "5\n"
     ]
    }
   ],
   "source": [
    "#code here\n",
    "print(len(languages))"
   ]
  },
  {
   "cell_type": "markdown",
   "id": "3f8f0f34",
   "metadata": {},
   "source": [
    "Using for loop iterate and print all the elements in the list"
   ]
  },
  {
   "cell_type": "code",
   "execution_count": 12,
   "id": "3a21848f",
   "metadata": {},
   "outputs": [
    {
     "name": "stdout",
     "output_type": "stream",
     "text": [
      "R\n",
      "Python\n",
      "SAS\n",
      "Scala\n",
      "42\n"
     ]
    }
   ],
   "source": [
    "#code here\n",
    "\n",
    "for i in languages:\n",
    "    print(i)"
   ]
  },
  {
   "cell_type": "markdown",
   "id": "bed241e8",
   "metadata": {},
   "source": [
    "Select the second item, 'Python' and store it in a new variable named 'temp'"
   ]
  },
  {
   "cell_type": "code",
   "execution_count": 13,
   "id": "11cd2061",
   "metadata": {},
   "outputs": [],
   "source": [
    "#code here\n",
    "temp = languages[1]"
   ]
  },
  {
   "cell_type": "markdown",
   "id": "290a34f9",
   "metadata": {},
   "source": [
    "Print the value of temp and type(temp)"
   ]
  },
  {
   "cell_type": "code",
   "execution_count": 14,
   "id": "815da6b4",
   "metadata": {},
   "outputs": [
    {
     "name": "stdout",
     "output_type": "stream",
     "text": [
      "Python\n",
      "<class 'str'>\n"
     ]
    }
   ],
   "source": [
    "#code here\n",
    "\n",
    "print(temp)\n",
    "print(type(temp))"
   ]
  },
  {
   "cell_type": "markdown",
   "id": "3126dcc8",
   "metadata": {},
   "source": [
    "Using list comprehension, print the last two elemets of list"
   ]
  },
  {
   "cell_type": "code",
   "execution_count": 23,
   "id": "8f8c9933",
   "metadata": {},
   "outputs": [
    {
     "name": "stdout",
     "output_type": "stream",
     "text": [
      "['Scala', 42]\n"
     ]
    }
   ],
   "source": [
    "# code here\n",
    "print(languages[-2:])"
   ]
  },
  {
   "cell_type": "markdown",
   "id": "c35b61bb",
   "metadata": {},
   "source": [
    "Append the element 'Java' in the list"
   ]
  },
  {
   "cell_type": "code",
   "execution_count": 24,
   "id": "c12a9239",
   "metadata": {},
   "outputs": [],
   "source": [
    "#code here\n",
    "languages.append(\"Java\")"
   ]
  },
  {
   "cell_type": "markdown",
   "id": "47b63542",
   "metadata": {},
   "source": [
    "Remove the element 42 from the list and print the list"
   ]
  },
  {
   "cell_type": "code",
   "execution_count": 27,
   "id": "8bfb9a90",
   "metadata": {},
   "outputs": [
    {
     "name": "stdout",
     "output_type": "stream",
     "text": [
      "['R', 'Python', 'SAS', 'Scala']\n"
     ]
    }
   ],
   "source": [
    "#code here\n",
    "languages.pop()\n",
    "print(languages)"
   ]
  },
  {
   "cell_type": "markdown",
   "id": "888b7d26",
   "metadata": {},
   "source": [
    "#### 1.3. Create a list, colors = [‘Red’, ‘Blue’, ‘White’]"
   ]
  },
  {
   "cell_type": "markdown",
   "id": "ac76ad6a",
   "metadata": {},
   "source": [
    "<p style='text-align: right;'> 1+1+1+1+1+1+1 = 6 points</p>\n"
   ]
  },
  {
   "cell_type": "code",
   "execution_count": 29,
   "id": "5de035bf",
   "metadata": {},
   "outputs": [],
   "source": [
    "#code here\n",
    "colors = ['Red', 'Blue', 'White']"
   ]
  },
  {
   "cell_type": "markdown",
   "id": "2fc7190b",
   "metadata": {},
   "source": [
    "Append the element 'Black' to colors"
   ]
  },
  {
   "cell_type": "code",
   "execution_count": 30,
   "id": "29b2e4ae",
   "metadata": {},
   "outputs": [],
   "source": [
    "#code here\n",
    "colors.append(\"Black\")"
   ]
  },
  {
   "cell_type": "markdown",
   "id": "e07c879b",
   "metadata": {},
   "source": [
    "Append the color 'Orange' to second position (index=1) and print the list"
   ]
  },
  {
   "cell_type": "code",
   "execution_count": 34,
   "id": "1b316b32",
   "metadata": {},
   "outputs": [],
   "source": [
    "# code here\n",
    "colors.insert(1,\"Orange\")"
   ]
  },
  {
   "cell_type": "markdown",
   "id": "4f78c5b1",
   "metadata": {},
   "source": [
    "Print the list\n"
   ]
  },
  {
   "cell_type": "code",
   "execution_count": 35,
   "id": "40e18672",
   "metadata": {},
   "outputs": [
    {
     "name": "stdout",
     "output_type": "stream",
     "text": [
      "['Red', 'Orange', 'Blue', 'White', 'Black']\n"
     ]
    }
   ],
   "source": [
    "# code here\n",
    "print(colors)"
   ]
  },
  {
   "cell_type": "markdown",
   "id": "36cda34d",
   "metadata": {},
   "source": [
    "Create another list, colors2 = [‘Grey’, ‘Sky Blue’]"
   ]
  },
  {
   "cell_type": "code",
   "execution_count": 36,
   "id": "22ff07a7",
   "metadata": {},
   "outputs": [],
   "source": [
    "# code here\n",
    "colors2 = ['Grey', 'Sky Blue']"
   ]
  },
  {
   "cell_type": "markdown",
   "id": "181cba7c",
   "metadata": {},
   "source": [
    "Add the elements of colors2 to colors using extend function in the list"
   ]
  },
  {
   "cell_type": "code",
   "execution_count": 37,
   "id": "175ad384",
   "metadata": {},
   "outputs": [],
   "source": [
    "#code here\n",
    "colors.extend(colors2)"
   ]
  },
  {
   "cell_type": "markdown",
   "id": "4588b39e",
   "metadata": {},
   "source": [
    "Print len of colors and its elements"
   ]
  },
  {
   "cell_type": "code",
   "execution_count": 39,
   "id": "489ed1af",
   "metadata": {},
   "outputs": [
    {
     "name": "stdout",
     "output_type": "stream",
     "text": [
      "7 ['Red', 'Orange', 'Blue', 'White', 'Black', 'Grey', 'Sky Blue']\n"
     ]
    }
   ],
   "source": [
    "# code here\n",
    "print(len(colors),colors)"
   ]
  },
  {
   "cell_type": "markdown",
   "id": "ff60bd8a",
   "metadata": {},
   "source": [
    "Sort the list and print it."
   ]
  },
  {
   "cell_type": "code",
   "execution_count": 40,
   "id": "567904f8",
   "metadata": {},
   "outputs": [
    {
     "name": "stdout",
     "output_type": "stream",
     "text": [
      "['Black', 'Blue', 'Grey', 'Orange', 'Red', 'Sky Blue', 'White']\n"
     ]
    }
   ],
   "source": [
    "# code here\n",
    "print(sorted(colors))\n"
   ]
  },
  {
   "cell_type": "markdown",
   "id": "498d7d69",
   "metadata": {},
   "source": [
    "#### 1.4. Create a string, sent = ‘Coronavirus Caused Lockdowns Around The World.”"
   ]
  },
  {
   "cell_type": "markdown",
   "id": "3c424a95",
   "metadata": {},
   "source": [
    "<p style='text-align: right;'> 7 points</p>\n"
   ]
  },
  {
   "cell_type": "code",
   "execution_count": 41,
   "id": "319200f5",
   "metadata": {},
   "outputs": [],
   "source": [
    "# code here\n",
    "sent = 'Coronavirus Caused Lockdowns Around The World.'"
   ]
  },
  {
   "cell_type": "markdown",
   "id": "f9dd4b0d",
   "metadata": {},
   "source": [
    "Use split function to convert the string into a list of words and save it in variable words and print the same"
   ]
  },
  {
   "cell_type": "code",
   "execution_count": 42,
   "id": "bb8dadb8",
   "metadata": {},
   "outputs": [
    {
     "name": "stdout",
     "output_type": "stream",
     "text": [
      "['Coronavirus', 'Caused', 'Lockdowns', 'Around', 'The', 'World.']\n"
     ]
    }
   ],
   "source": [
    "# code here\n",
    "print(sent.split(\" \"))"
   ]
  },
  {
   "cell_type": "markdown",
   "id": "71960e87",
   "metadata": {},
   "source": [
    "Using list comprehensions, convert each word in the list to lower case and store it in variable words_lower. \n",
    "Print words_lower"
   ]
  },
  {
   "cell_type": "code",
   "execution_count": 48,
   "id": "81f09c4e",
   "metadata": {},
   "outputs": [
    {
     "name": "stdout",
     "output_type": "stream",
     "text": [
      "['coronavirus', 'caused', 'lockdowns', 'around', 'the', 'world.']\n"
     ]
    }
   ],
   "source": [
    "# code here\n",
    "words_lower = [i.lower() for i in sent.split(\" \")]\n",
    "print(words_lower)"
   ]
  },
  {
   "cell_type": "markdown",
   "id": "982a9490",
   "metadata": {},
   "source": [
    "Check whether ‘country’ is in the list"
   ]
  },
  {
   "cell_type": "code",
   "execution_count": 49,
   "id": "6f8a7f59",
   "metadata": {},
   "outputs": [
    {
     "name": "stdout",
     "output_type": "stream",
     "text": [
      "False\n"
     ]
    }
   ],
   "source": [
    "# code here\n",
    "if 'country' in words_lower:\n",
    "    print(True)\n",
    "else:\n",
    "    print(False)"
   ]
  },
  {
   "cell_type": "markdown",
   "id": "6d9f9379",
   "metadata": {},
   "source": [
    "Remove the element ‘the’ from the list and print the list."
   ]
  },
  {
   "cell_type": "code",
   "execution_count": 50,
   "id": "89515b3a",
   "metadata": {},
   "outputs": [
    {
     "name": "stdout",
     "output_type": "stream",
     "text": [
      "['coronavirus', 'caused', 'lockdowns', 'around', 'world.']\n"
     ]
    }
   ],
   "source": [
    "# code here\n",
    "words_lower.remove(\"the\")\n",
    "print(words_lower)"
   ]
  },
  {
   "cell_type": "markdown",
   "id": "245bdde0",
   "metadata": {},
   "source": [
    "Select the first 4 words from the list words_lower using slicing and store them in a new variable x4"
   ]
  },
  {
   "cell_type": "code",
   "execution_count": 53,
   "id": "aeb1e5a3",
   "metadata": {},
   "outputs": [],
   "source": [
    "#code here\n",
    "x4 = words_lower[:4]"
   ]
  },
  {
   "cell_type": "code",
   "execution_count": 54,
   "id": "b7de5163",
   "metadata": {},
   "outputs": [
    {
     "name": "stdout",
     "output_type": "stream",
     "text": [
      "['coronavirus', 'caused', 'lockdowns', 'around']\n"
     ]
    }
   ],
   "source": [
    "# print x4\n",
    "print(x4)"
   ]
  },
  {
   "cell_type": "markdown",
   "id": "fa66f9a9",
   "metadata": {},
   "source": [
    "Convert the list of elements to single string using join function and print it"
   ]
  },
  {
   "cell_type": "code",
   "execution_count": 58,
   "id": "2854b267",
   "metadata": {},
   "outputs": [
    {
     "name": "stdout",
     "output_type": "stream",
     "text": [
      "coronavirus caused lockdowns around\n"
     ]
    }
   ],
   "source": [
    "#code here\n",
    "\n",
    "print(\" \".join(x4))"
   ]
  },
  {
   "cell_type": "markdown",
   "id": "1e854202",
   "metadata": {},
   "source": [
    "## 2. Sets\n",
    "\n",
    "Reference:-https://www.youtube.com/watch?v=sBvaPopWOmQ"
   ]
  },
  {
   "cell_type": "markdown",
   "id": "e45764da",
   "metadata": {},
   "source": [
    "#### 2.1. Create stud_grades = ['A','A','B','C','C','F']"
   ]
  },
  {
   "cell_type": "markdown",
   "id": "35dd7c05",
   "metadata": {},
   "source": [
    "<p style='text-align: right;'> 7 points</p>\n"
   ]
  },
  {
   "cell_type": "code",
   "execution_count": 59,
   "id": "dd2d6195",
   "metadata": {},
   "outputs": [],
   "source": [
    "#code here\n",
    "stud_grades = ['A','A','B','C','C','F']"
   ]
  },
  {
   "cell_type": "markdown",
   "id": "e64b0a74",
   "metadata": {},
   "source": [
    "Print the len of stud_grades"
   ]
  },
  {
   "cell_type": "code",
   "execution_count": 60,
   "id": "51879112",
   "metadata": {},
   "outputs": [
    {
     "name": "stdout",
     "output_type": "stream",
     "text": [
      "6\n"
     ]
    }
   ],
   "source": [
    "#code here\n",
    "print(len(stud_grades))"
   ]
  },
  {
   "cell_type": "markdown",
   "id": "50fb16d1",
   "metadata": {},
   "source": [
    "Create a new variable, stud_grades_set = set(stud_grades)"
   ]
  },
  {
   "cell_type": "code",
   "execution_count": 61,
   "id": "41000ee8",
   "metadata": {},
   "outputs": [],
   "source": [
    "#code here\n",
    "\n",
    "stud_grades_set = set(stud_grades)"
   ]
  },
  {
   "cell_type": "markdown",
   "id": "7a4c0974",
   "metadata": {},
   "source": [
    "Print stud_grades_set. "
   ]
  },
  {
   "cell_type": "code",
   "execution_count": 62,
   "id": "75974a8b",
   "metadata": {},
   "outputs": [
    {
     "name": "stdout",
     "output_type": "stream",
     "text": [
      "{'F', 'A', 'B', 'C'}\n"
     ]
    }
   ],
   "source": [
    "#code here\n",
    "print(stud_grades_set)"
   ]
  },
  {
   "cell_type": "markdown",
   "id": "1faadd27",
   "metadata": {},
   "source": [
    "print the type of stud_grades and stud_grades_set and print their corresponding elements. Try to understand the difference between them."
   ]
  },
  {
   "cell_type": "code",
   "execution_count": 64,
   "id": "ab9b44a7",
   "metadata": {},
   "outputs": [
    {
     "name": "stdout",
     "output_type": "stream",
     "text": [
      "<class 'list'> ['A', 'A', 'B', 'C', 'C', 'F'] <class 'set'> {'F', 'A', 'B', 'C'}\n"
     ]
    }
   ],
   "source": [
    "#code here\n",
    "print(type(stud_grades),stud_grades,type(stud_grades_set),stud_grades_set)\n"
   ]
  },
  {
   "cell_type": "markdown",
   "id": "05a4ce90",
   "metadata": {},
   "source": [
    "Add a new element ‘G’ to stud_grades_set"
   ]
  },
  {
   "cell_type": "code",
   "execution_count": 70,
   "id": "dca25d08",
   "metadata": {},
   "outputs": [],
   "source": [
    "#code here\n",
    "\n",
    "stud_grades_set.add(\"G\")"
   ]
  },
  {
   "cell_type": "markdown",
   "id": "c41de89d",
   "metadata": {},
   "source": [
    "Add element 'F' to stud_grades_set. and print it."
   ]
  },
  {
   "cell_type": "code",
   "execution_count": 71,
   "id": "f42f3548",
   "metadata": {},
   "outputs": [
    {
     "name": "stdout",
     "output_type": "stream",
     "text": [
      "{'G', 'B', 'C', 'F', 'A'}\n"
     ]
    }
   ],
   "source": [
    "#code here\n",
    "stud_grades_set.add(\"F\")\n",
    "print(stud_grades_set)\n"
   ]
  },
  {
   "cell_type": "markdown",
   "id": "ab1bb7df",
   "metadata": {},
   "source": [
    "!!Did you notice? set doesn't add an element if it's already present in it, unlike lists."
   ]
  },
  {
   "cell_type": "markdown",
   "id": "868d415c",
   "metadata": {},
   "source": [
    "Remove ‘F’ from stud_grades_set"
   ]
  },
  {
   "cell_type": "code",
   "execution_count": 72,
   "id": "503ebaa7",
   "metadata": {},
   "outputs": [],
   "source": [
    "#code here\n",
    "\n",
    "stud_grades_set.remove(\"F\")"
   ]
  },
  {
   "cell_type": "markdown",
   "id": "cb7a5933",
   "metadata": {},
   "source": [
    "Print the elements and the length of stud_grades_set"
   ]
  },
  {
   "cell_type": "code",
   "execution_count": 73,
   "id": "d745dc86",
   "metadata": {},
   "outputs": [
    {
     "name": "stdout",
     "output_type": "stream",
     "text": [
      "{'G', 'B', 'C', 'A'}\n",
      "4\n"
     ]
    }
   ],
   "source": [
    "#code here\n",
    "print(stud_grades_set)\n",
    "print(len(stud_grades_set))\n"
   ]
  },
  {
   "cell_type": "markdown",
   "id": "f9ed1742",
   "metadata": {},
   "source": [
    "#### 2.2. Create colors = [‘red’,’blue’,’orange’], and fruits = [‘orange’,’grapes’,’apples’] "
   ]
  },
  {
   "cell_type": "markdown",
   "id": "a67e9f82",
   "metadata": {},
   "source": [
    "<p style='text-align: right;'> 6 points</p>\n"
   ]
  },
  {
   "cell_type": "code",
   "execution_count": 74,
   "id": "0e209b36",
   "metadata": {},
   "outputs": [],
   "source": [
    "#code here\n",
    "colors = ['red','blue','orange']\n",
    "fruits = ['orange','grapes','apples']\n"
   ]
  },
  {
   "cell_type": "markdown",
   "id": "0cf6b766",
   "metadata": {},
   "source": [
    "Print color and fruits"
   ]
  },
  {
   "cell_type": "code",
   "execution_count": 75,
   "id": "3fdaae54",
   "metadata": {},
   "outputs": [
    {
     "name": "stdout",
     "output_type": "stream",
     "text": [
      "['red', 'blue', 'orange']\n",
      "['orange', 'grapes', 'apples']\n"
     ]
    }
   ],
   "source": [
    "#code here\n",
    "print(colors)\n",
    "print(fruits)"
   ]
  },
  {
   "cell_type": "markdown",
   "id": "154809d2",
   "metadata": {},
   "source": [
    "Create colors_set, and fruits_set. (using set() ) and print them"
   ]
  },
  {
   "cell_type": "code",
   "execution_count": 76,
   "id": "eecc91e7",
   "metadata": {},
   "outputs": [
    {
     "name": "stdout",
     "output_type": "stream",
     "text": [
      "{'orange', 'blue', 'red'}\n",
      "{'orange', 'apples', 'grapes'}\n"
     ]
    }
   ],
   "source": [
    "#code here\n",
    "colors_set=set(colors)\n",
    "fruits_set=set(fruits)\n",
    "print(colors_set)\n",
    "print(fruits_set)"
   ]
  },
  {
   "cell_type": "markdown",
   "id": "823d1b5a",
   "metadata": {},
   "source": [
    "Find the union of both the sets."
   ]
  },
  {
   "cell_type": "code",
   "execution_count": 78,
   "id": "74a778e3",
   "metadata": {},
   "outputs": [
    {
     "name": "stdout",
     "output_type": "stream",
     "text": [
      "{'orange', 'blue', 'grapes', 'apples', 'red'}\n"
     ]
    }
   ],
   "source": [
    "#code here\n",
    "\n",
    "print(colors_set.union(fruits_set))"
   ]
  },
  {
   "cell_type": "markdown",
   "id": "6c868fb2",
   "metadata": {},
   "source": [
    "Find the intersection of both the sets "
   ]
  },
  {
   "cell_type": "code",
   "execution_count": 79,
   "id": "9ea70248",
   "metadata": {},
   "outputs": [
    {
     "name": "stdout",
     "output_type": "stream",
     "text": [
      "{'orange'}\n"
     ]
    }
   ],
   "source": [
    "#code here\n",
    "print(colors_set.intersection(fruits_set))\n"
   ]
  },
  {
   "cell_type": "markdown",
   "id": "40fa5347",
   "metadata": {},
   "source": [
    "Find the elements which are Fruits but not colors (using set.difference() )"
   ]
  },
  {
   "cell_type": "code",
   "execution_count": 80,
   "id": "b7cc0232",
   "metadata": {},
   "outputs": [
    {
     "name": "stdout",
     "output_type": "stream",
     "text": [
      "{'apples', 'grapes'}\n"
     ]
    }
   ],
   "source": [
    "#code here\n",
    "\n",
    "print(fruits_set.difference(colors_set))"
   ]
  },
  {
   "cell_type": "markdown",
   "id": "678878a5",
   "metadata": {},
   "source": [
    "## 3. TUPLES\n",
    "\n",
    "Reference:-https://www.youtube.com/watch?v=NI26dqhs2Rk"
   ]
  },
  {
   "cell_type": "markdown",
   "id": "04461ae5",
   "metadata": {},
   "source": [
    "#### 3.1 . Create temp = [17, ’Virat’, 50.0]"
   ]
  },
  {
   "cell_type": "markdown",
   "id": "576255a5",
   "metadata": {},
   "source": [
    "<p style='text-align: right;'> 7 points</p>\n"
   ]
  },
  {
   "cell_type": "code",
   "execution_count": 82,
   "id": "7cfcf21f",
   "metadata": {},
   "outputs": [],
   "source": [
    "#code here\n",
    "temp = [17, 'Virat', 50.0]\n",
    "\n"
   ]
  },
  {
   "cell_type": "markdown",
   "id": "1e9390e1",
   "metadata": {},
   "source": [
    "Iterate through temp and print all the items in temp"
   ]
  },
  {
   "cell_type": "code",
   "execution_count": 84,
   "id": "ff376b4e",
   "metadata": {},
   "outputs": [
    {
     "name": "stdout",
     "output_type": "stream",
     "text": [
      "17\n",
      "Virat\n",
      "50.0\n"
     ]
    }
   ],
   "source": [
    "#code here\n",
    "for i in temp:\n",
    "    print(i)\n",
    "\n"
   ]
  },
  {
   "cell_type": "markdown",
   "id": "0c46102e",
   "metadata": {},
   "source": [
    "replace first element with 11 in temp"
   ]
  },
  {
   "cell_type": "code",
   "execution_count": 85,
   "id": "85389ae5",
   "metadata": {},
   "outputs": [],
   "source": [
    "#code here\n",
    "temp[0] = 11\n"
   ]
  },
  {
   "cell_type": "markdown",
   "id": "596f2cd7",
   "metadata": {},
   "source": [
    "Set temp1 = tuple(temp)"
   ]
  },
  {
   "cell_type": "code",
   "execution_count": 86,
   "id": "04986936",
   "metadata": {},
   "outputs": [],
   "source": [
    "#code here\n",
    "temp1 = tuple(temp)\n"
   ]
  },
  {
   "cell_type": "markdown",
   "id": "786a6f27",
   "metadata": {},
   "source": [
    "Iterate through temp1 and print all the items in temp1. "
   ]
  },
  {
   "cell_type": "code",
   "execution_count": 87,
   "id": "14f6d3f1",
   "metadata": {},
   "outputs": [
    {
     "name": "stdout",
     "output_type": "stream",
     "text": [
      "11\n",
      "Virat\n",
      "50.0\n"
     ]
    }
   ],
   "source": [
    "#code here\n",
    "for i in temp1:\n",
    "    print(i)\n"
   ]
  },
  {
   "cell_type": "markdown",
   "id": "b0b75abc",
   "metadata": {},
   "source": [
    "replace first element with 17 in temp1"
   ]
  },
  {
   "cell_type": "code",
   "execution_count": 88,
   "id": "cd11a39b",
   "metadata": {},
   "outputs": [
    {
     "ename": "TypeError",
     "evalue": "'tuple' object does not support item assignment",
     "output_type": "error",
     "traceback": [
      "\u001b[0;31m---------------------------------------------------------------------------\u001b[0m",
      "\u001b[0;31mTypeError\u001b[0m                                 Traceback (most recent call last)",
      "\u001b[0;32m/tmp/ipykernel_3981/2616956990.py\u001b[0m in \u001b[0;36m<module>\u001b[0;34m\u001b[0m\n\u001b[1;32m      1\u001b[0m \u001b[0;31m#code here\u001b[0m\u001b[0;34m\u001b[0m\u001b[0;34m\u001b[0m\u001b[0;34m\u001b[0m\u001b[0m\n\u001b[0;32m----> 2\u001b[0;31m \u001b[0mtemp1\u001b[0m\u001b[0;34m[\u001b[0m\u001b[0;36m0\u001b[0m\u001b[0;34m]\u001b[0m \u001b[0;34m=\u001b[0m \u001b[0;36m17\u001b[0m\u001b[0;34m\u001b[0m\u001b[0;34m\u001b[0m\u001b[0m\n\u001b[0m",
      "\u001b[0;31mTypeError\u001b[0m: 'tuple' object does not support item assignment"
     ]
    }
   ],
   "source": [
    "#code here\n",
    "temp1[0] = 17\n"
   ]
  },
  {
   "cell_type": "markdown",
   "id": "dc319809",
   "metadata": {},
   "source": [
    "<b>Oops!! You got an error. Hey Don't worry! Its because Once a tuple is created, you cannot change its values unlike list.</b>"
   ]
  },
  {
   "cell_type": "markdown",
   "id": "34c59364",
   "metadata": {},
   "source": [
    "#### 3.2 . Create city = (\"Bangalore\", 28.9949521, 72)"
   ]
  },
  {
   "cell_type": "markdown",
   "id": "93fd91e9",
   "metadata": {},
   "source": [
    "<p style='text-align: right;'> 6 points</p>\n"
   ]
  },
  {
   "cell_type": "code",
   "execution_count": 89,
   "id": "5ac26b08",
   "metadata": {},
   "outputs": [],
   "source": [
    "#code here\n",
    "\n",
    "city = (\"Bangalore\", 28.9949521, 72)"
   ]
  },
  {
   "cell_type": "markdown",
   "id": "25a01149",
   "metadata": {},
   "source": [
    "Print first element of city"
   ]
  },
  {
   "cell_type": "code",
   "execution_count": 90,
   "id": "2e1a3398",
   "metadata": {},
   "outputs": [
    {
     "name": "stdout",
     "output_type": "stream",
     "text": [
      "Bangalore\n"
     ]
    }
   ],
   "source": [
    "#code here\n",
    "\n",
    "print(city[0])"
   ]
  },
  {
   "cell_type": "markdown",
   "id": "ca17fc9b",
   "metadata": {},
   "source": [
    "Create city2 = (‘Chennai’, 30.01, 74)"
   ]
  },
  {
   "cell_type": "code",
   "execution_count": 91,
   "id": "c0a3b28a",
   "metadata": {},
   "outputs": [],
   "source": [
    "#code here\n",
    "city2 = ('Chennai', 30.01, 74)\n"
   ]
  },
  {
   "cell_type": "markdown",
   "id": "9d5dabb1",
   "metadata": {},
   "source": [
    "Create cities which consist of city and city2"
   ]
  },
  {
   "cell_type": "code",
   "execution_count": 113,
   "id": "5e9c33fc",
   "metadata": {},
   "outputs": [
    {
     "name": "stdout",
     "output_type": "stream",
     "text": [
      "(('Bangalore', 28.9949521, 72), ('Chennai', 30.01, 74))\n"
     ]
    }
   ],
   "source": [
    "#code here\n",
    "x = []\n",
    "x.append(city)\n",
    "x.append(city2)\n",
    "\n",
    "cities = tuple(x)\n",
    "\n"
   ]
  },
  {
   "cell_type": "markdown",
   "id": "c47f79ee",
   "metadata": {},
   "source": [
    "Print cities"
   ]
  },
  {
   "cell_type": "code",
   "execution_count": 114,
   "id": "dd92c2f8",
   "metadata": {},
   "outputs": [
    {
     "name": "stdout",
     "output_type": "stream",
     "text": [
      "(('Bangalore', 28.9949521, 72), ('Chennai', 30.01, 74))\n"
     ]
    }
   ],
   "source": [
    "#code here\n",
    "print(cities)\n"
   ]
  },
  {
   "cell_type": "markdown",
   "id": "212d676f",
   "metadata": {},
   "source": [
    "Print type of first element in cities"
   ]
  },
  {
   "cell_type": "code",
   "execution_count": 115,
   "id": "55c70317",
   "metadata": {},
   "outputs": [
    {
     "name": "stdout",
     "output_type": "stream",
     "text": [
      "<class 'tuple'>\n"
     ]
    }
   ],
   "source": [
    "#code here\n",
    "\n",
    "print(type(cities[0]))"
   ]
  },
  {
   "cell_type": "markdown",
   "id": "0eadcfaa",
   "metadata": {},
   "source": [
    "print the type of cities\n"
   ]
  },
  {
   "cell_type": "code",
   "execution_count": 116,
   "id": "701eed49",
   "metadata": {},
   "outputs": [
    {
     "name": "stdout",
     "output_type": "stream",
     "text": [
      "<class 'tuple'>\n"
     ]
    }
   ],
   "source": [
    "#code here\n",
    "\n",
    "print(type(cities))"
   ]
  },
  {
   "cell_type": "markdown",
   "id": "b03c7119",
   "metadata": {},
   "source": [
    "Hey that implies you made a nested tuples!!"
   ]
  },
  {
   "cell_type": "markdown",
   "id": "de607ae0",
   "metadata": {},
   "source": [
    "## 4. DICT\n",
    "\n",
    "Reference:-https://www.youtube.com/watch?v=XCcpzWs-CI4"
   ]
  },
  {
   "cell_type": "markdown",
   "id": "4d97e5b9",
   "metadata": {},
   "source": [
    "<p style='text-align: right;'> 11 points</p>\n"
   ]
  },
  {
   "cell_type": "markdown",
   "id": "87b73474",
   "metadata": {},
   "source": [
    "#### 4.1 Create a dictionary d = {\"actor\":\"amir\",\"animal\":\"cat\",\"earth\":2,\"list\":[23,32,12]}"
   ]
  },
  {
   "cell_type": "code",
   "execution_count": 117,
   "id": "c350bd5e",
   "metadata": {},
   "outputs": [],
   "source": [
    "#code here\n",
    "\n",
    "d = {\"actor\":\"amir\",\"animal\":\"cat\",\"earth\":2,\"list\":[23,32,12]}"
   ]
  },
  {
   "cell_type": "markdown",
   "id": "d62b72b3",
   "metadata": {},
   "source": [
    "Print the value of d[0]"
   ]
  },
  {
   "cell_type": "code",
   "execution_count": 118,
   "id": "1b71cc2f",
   "metadata": {},
   "outputs": [
    {
     "ename": "KeyError",
     "evalue": "0",
     "output_type": "error",
     "traceback": [
      "\u001b[0;31m---------------------------------------------------------------------------\u001b[0m",
      "\u001b[0;31mKeyError\u001b[0m                                  Traceback (most recent call last)",
      "\u001b[0;32m/tmp/ipykernel_3981/3091388546.py\u001b[0m in \u001b[0;36m<module>\u001b[0;34m\u001b[0m\n\u001b[1;32m      1\u001b[0m \u001b[0;31m#code here\u001b[0m\u001b[0;34m\u001b[0m\u001b[0;34m\u001b[0m\u001b[0;34m\u001b[0m\u001b[0m\n\u001b[0;32m----> 2\u001b[0;31m \u001b[0mprint\u001b[0m\u001b[0;34m(\u001b[0m\u001b[0md\u001b[0m\u001b[0;34m[\u001b[0m\u001b[0;36m0\u001b[0m\u001b[0;34m]\u001b[0m\u001b[0;34m)\u001b[0m\u001b[0;34m\u001b[0m\u001b[0;34m\u001b[0m\u001b[0m\n\u001b[0m",
      "\u001b[0;31mKeyError\u001b[0m: 0"
     ]
    }
   ],
   "source": [
    "#code here\n",
    "print(d[0])\n"
   ]
  },
  {
   "cell_type": "markdown",
   "id": "68619944",
   "metadata": {},
   "source": [
    "<b>Oops!! again an error. again a fun fact. Dictionary return the value for key if key is in the dictionary, else throws KeyError\n",
    "and we don't have key 0 here :( </b>"
   ]
  },
  {
   "cell_type": "markdown",
   "id": "a93fd53f",
   "metadata": {},
   "source": [
    "Store the value of d[‘actor’] to a new variable actor."
   ]
  },
  {
   "cell_type": "code",
   "execution_count": 120,
   "id": "677d2a4d",
   "metadata": {},
   "outputs": [],
   "source": [
    "#code here\n",
    "\n",
    "actor = d['actor']"
   ]
  },
  {
   "cell_type": "markdown",
   "id": "4e25cb9e",
   "metadata": {},
   "source": [
    "Print the type of actor"
   ]
  },
  {
   "cell_type": "code",
   "execution_count": 121,
   "id": "054bd198",
   "metadata": {},
   "outputs": [
    {
     "name": "stdout",
     "output_type": "stream",
     "text": [
      "<class 'str'>\n"
     ]
    }
   ],
   "source": [
    "#code here\n",
    "print(type(actor))\n"
   ]
  },
  {
   "cell_type": "markdown",
   "id": "19d875e9",
   "metadata": {},
   "source": [
    "Store the value of d[‘list’] in new variable l. "
   ]
  },
  {
   "cell_type": "code",
   "execution_count": 122,
   "id": "6e03620a",
   "metadata": {},
   "outputs": [],
   "source": [
    "#code here\n",
    "\n",
    "l = d['list']"
   ]
  },
  {
   "cell_type": "markdown",
   "id": "6736b563",
   "metadata": {},
   "source": [
    "Print the type of l. "
   ]
  },
  {
   "cell_type": "code",
   "execution_count": 123,
   "id": "bfdb9a86",
   "metadata": {},
   "outputs": [
    {
     "name": "stdout",
     "output_type": "stream",
     "text": [
      "<class 'list'>\n"
     ]
    }
   ],
   "source": [
    "#code here\n",
    "\n",
    "print(type(l))"
   ]
  },
  {
   "cell_type": "markdown",
   "id": "feeb19ae",
   "metadata": {},
   "source": [
    "Create d1 = { ‘singer’ : ‘Kr$na’ , ‘album’: ‘Still here’, ‘genre’ : ‘hip-hop’}"
   ]
  },
  {
   "cell_type": "code",
   "execution_count": 124,
   "id": "1309909f",
   "metadata": {},
   "outputs": [],
   "source": [
    "#code here\n",
    "\n",
    "d1 = { 'singer' : 'Kr$na' , 'album': 'Still here', 'genre' : 'hip-hop'}"
   ]
  },
  {
   "cell_type": "markdown",
   "id": "7a7a8eb1",
   "metadata": {},
   "source": [
    "Merge d1 into d."
   ]
  },
  {
   "cell_type": "code",
   "execution_count": 128,
   "id": "6b422477",
   "metadata": {},
   "outputs": [],
   "source": [
    "#code here\n",
    "d.update(d1)\n"
   ]
  },
  {
   "cell_type": "markdown",
   "id": "1a21a753",
   "metadata": {},
   "source": [
    "print d"
   ]
  },
  {
   "cell_type": "code",
   "execution_count": 129,
   "id": "3bb2e6f0",
   "metadata": {},
   "outputs": [
    {
     "name": "stdout",
     "output_type": "stream",
     "text": [
      "{'actor': 'amir', 'animal': 'cat', 'earth': 2, 'list': [23, 32, 12], 'singer': 'Kr$na', 'album': 'Still here', 'genre': 'hip-hop'}\n"
     ]
    }
   ],
   "source": [
    "#code here\n",
    "\n",
    "print(d)"
   ]
  },
  {
   "cell_type": "markdown",
   "id": "eec898b4",
   "metadata": {},
   "source": [
    "Print all the keys in d"
   ]
  },
  {
   "cell_type": "code",
   "execution_count": 130,
   "id": "5ebf8cfb",
   "metadata": {},
   "outputs": [
    {
     "name": "stdout",
     "output_type": "stream",
     "text": [
      "dict_keys(['actor', 'animal', 'earth', 'list', 'singer', 'album', 'genre'])\n"
     ]
    }
   ],
   "source": [
    "#code here\n",
    "print(d.keys())\n"
   ]
  },
  {
   "cell_type": "markdown",
   "id": "e061188f",
   "metadata": {},
   "source": [
    "Print all the values in d"
   ]
  },
  {
   "cell_type": "code",
   "execution_count": 135,
   "id": "2ccc633c",
   "metadata": {},
   "outputs": [
    {
     "name": "stdout",
     "output_type": "stream",
     "text": [
      "amir\n",
      "cat\n",
      "2\n",
      "[23, 32, 12]\n",
      "Kr$na\n",
      "Still here\n",
      "hip-hop\n"
     ]
    }
   ],
   "source": [
    "#code here\n",
    "\n",
    "for i in d:\n",
    "    print(d[i])\n",
    "    "
   ]
  },
  {
   "cell_type": "markdown",
   "id": "484632d2",
   "metadata": {},
   "source": [
    "Iterate over d, and print each key, value pair as given in output"
   ]
  },
  {
   "cell_type": "code",
   "execution_count": 134,
   "id": "394595e3",
   "metadata": {},
   "outputs": [
    {
     "name": "stdout",
     "output_type": "stream",
     "text": [
      "actor ----> amir\n",
      "animal ----> cat\n",
      "earth ----> 2\n",
      "list ----> [23, 32, 12]\n",
      "singer ----> Kr$na\n",
      "album ----> Still here\n",
      "genre ----> hip-hop\n"
     ]
    }
   ],
   "source": [
    "#code here\n",
    "for i in d:\n",
    "    print(i,\"---->\",d[i])\n"
   ]
  },
  {
   "cell_type": "markdown",
   "id": "b44f7515",
   "metadata": {},
   "source": [
    "\n",
    "Create a string, sent = ‘Coronavirus Caused Lockdowns Around The World.”\n",
    "\n",
    "Count the number of occurences of charachters in string named \"sent\" using dictionary and print the same.\n"
   ]
  },
  {
   "cell_type": "code",
   "execution_count": 138,
   "id": "36319b3c",
   "metadata": {},
   "outputs": [
    {
     "name": "stdout",
     "output_type": "stream",
     "text": [
      "{'C': 2, 'o': 6, 'r': 4, 'n': 3, 'a': 2, 'v': 1, 'i': 1, 'u': 3, 's': 3, ' ': 5, 'e': 2, 'd': 4, 'L': 1, 'c': 1, 'k': 1, 'w': 1, 'A': 1, 'T': 1, 'h': 1, 'W': 1, 'l': 1, '.': 1}\n"
     ]
    }
   ],
   "source": [
    "#code here\n",
    "\n",
    "sent = \"Coronavirus Caused Lockdowns Around The World.\"\n",
    "\n",
    "d ={}\n",
    "\n",
    "for i in sent:\n",
    "    if i in d:\n",
    "        d[i] += 1\n",
    "    else:\n",
    "        d[i] = 1\n",
    "\n",
    "print(d)\n",
    "\n",
    "\n",
    "\n"
   ]
  },
  {
   "cell_type": "markdown",
   "id": "0a9ea9ef",
   "metadata": {},
   "source": [
    "# --------------------------------------------------------------------"
   ]
  },
  {
   "cell_type": "markdown",
   "id": "bfac08f3",
   "metadata": {},
   "source": [
    "# Hurray!! Second milestone completed. The next challenge is waiting for you :)\n",
    "\n",
    "# --------------------------------------------------------------------\n",
    "\n",
    "-----------------\n",
    "# FeedBack\n",
    "We hope you’ve enjoyed this course so far. We’re committed to help you use \"AI for All\" course to its full potential, so that you have a great learning experience. And that’s why we need your help in form of a feedback here.\n",
    "\n",
    "Please fill this feedback form  https://zfrmz.in/MtRG5oWXBdesm6rmSM7N"
   ]
  }
 ],
 "metadata": {
  "kernelspec": {
   "display_name": "Python 3 (ipykernel)",
   "language": "python",
   "name": "python3"
  },
  "language_info": {
   "codemirror_mode": {
    "name": "ipython",
    "version": 3
   },
   "file_extension": ".py",
   "mimetype": "text/x-python",
   "name": "python",
   "nbconvert_exporter": "python",
   "pygments_lexer": "ipython3",
   "version": "3.8.10"
  }
 },
 "nbformat": 4,
 "nbformat_minor": 5
}
